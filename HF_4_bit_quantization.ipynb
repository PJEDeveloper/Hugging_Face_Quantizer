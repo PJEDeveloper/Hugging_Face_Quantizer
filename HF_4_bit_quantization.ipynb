{
 "cells": [
  {
   "cell_type": "code",
   "execution_count": 1,
   "id": "2c7ae664",
   "metadata": {},
   "outputs": [],
   "source": [
    "import torch\n",
    "from transformers import AutoTokenizer, AutoModelForCausalLM, AutoModel, BitsAndBytesConfig\n",
    "from pathlib import Path\n",
    "import tkinter as tk\n",
    "from tkinter import filedialog, simpledialog, messagebox\n",
    "import os"
   ]
  },
  {
   "cell_type": "code",
   "execution_count": 2,
   "id": "a15f846c",
   "metadata": {},
   "outputs": [],
   "source": [
    "def select_output_directory():\n",
    "    root = tk.Tk()\n",
    "    root.withdraw()\n",
    "    messagebox.showinfo(\"Model Save Location\", \"Choose the directory where the quantized model will be saved.\")\n",
    "    selected_dir = filedialog.askdirectory()\n",
    "    if not selected_dir:\n",
    "        raise Exception(\"No directory selected.\")\n",
    "    folder_name = simpledialog.askstring(\"Folder Name\", \"Enter name for the model folder:\")\n",
    "    if not folder_name:\n",
    "        raise Exception(\"No folder name provided.\")\n",
    "    return Path(selected_dir) / folder_name"
   ]
  },
  {
   "cell_type": "code",
   "execution_count": 3,
   "id": "2c6fd366",
   "metadata": {},
   "outputs": [],
   "source": [
    "def quantize_model_notebook(model_name=\"mistralai/Mistral-Nemo-Instruct-2407\"):\n",
    "    base_dir = input(\"Enter the full directory path to save the quantized model: \")\n",
    "    folder_name = input(\"Enter a folder name for the model: \")\n",
    "\n",
    "    save_path = Path(base_dir) / folder_name\n",
    "    save_path.mkdir(parents=True, exist_ok=True)\n",
    "\n",
    "    quant_config = BitsAndBytesConfig(\n",
    "        load_in_4bit=True,\n",
    "        bnb_4bit_use_double_quant=True,\n",
    "        bnb_4bit_quant_type=\"nf4\",\n",
    "        bnb_4bit_compute_dtype=torch.float16\n",
    "    )\n",
    "\n",
    "    print(f\"Loading model {model_name} with 4-bit quantization...\")\n",
    "    tokenizer = AutoTokenizer.from_pretrained(model_name)\n",
    "    model = AutoModelForCausalLM.from_pretrained(\n",
    "        model_name,\n",
    "        quantization_config=quant_config,\n",
    "        device_map=\"auto\",\n",
    "        trust_remote_code=True\n",
    "    )\n",
    "\n",
    "    tokenizer.save_pretrained(save_path)\n",
    "    model.save_pretrained(save_path)\n",
    "    print(f\"Model saved to: {save_path}\")"
   ]
  },
  {
   "cell_type": "code",
   "execution_count": 4,
   "id": "86a82766",
   "metadata": {},
   "outputs": [
    {
     "name": "stdout",
     "output_type": "stream",
     "text": [
      "Loading model mistralai/Mistral-Nemo-Instruct-2407 with 4-bit quantization...\n"
     ]
    },
    {
     "data": {
      "application/vnd.jupyter.widget-view+json": {
       "model_id": "7b78f8eebe9c4cb2b9f03c659a7900a8",
       "version_major": 2,
       "version_minor": 0
      },
      "text/plain": [
       "Loading checkpoint shards:   0%|          | 0/5 [00:00<?, ?it/s]"
      ]
     },
     "metadata": {},
     "output_type": "display_data"
    },
    {
     "name": "stdout",
     "output_type": "stream",
     "text": [
      "Model saved to: D:\\Development\\Libraries\n"
     ]
    }
   ],
   "source": [
    "quantize_model_notebook()"
   ]
  }
 ],
 "metadata": {
  "kernelspec": {
   "display_name": "base",
   "language": "python",
   "name": "python3"
  },
  "language_info": {
   "codemirror_mode": {
    "name": "ipython",
    "version": 3
   },
   "file_extension": ".py",
   "mimetype": "text/x-python",
   "name": "python",
   "nbconvert_exporter": "python",
   "pygments_lexer": "ipython3",
   "version": "3.12.3"
  }
 },
 "nbformat": 4,
 "nbformat_minor": 5
}
